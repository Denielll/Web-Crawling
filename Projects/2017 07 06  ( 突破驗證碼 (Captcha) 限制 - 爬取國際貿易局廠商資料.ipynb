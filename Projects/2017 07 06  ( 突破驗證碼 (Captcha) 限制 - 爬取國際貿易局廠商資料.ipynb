{
 "cells": [
  {
   "cell_type": "code",
   "execution_count": null,
   "metadata": {
    "collapsed": true
   },
   "outputs": [],
   "source": [
    "# 參考資料：https://www.youtube.com/watch?v=Fef68FgfAbU"
   ]
  },
  {
   "cell_type": "code",
   "execution_count": null,
   "metadata": {
    "collapsed": true
   },
   "outputs": [],
   "source": [
    "import requests"
   ]
  },
  {
   "cell_type": "code",
   "execution_count": null,
   "metadata": {
    "collapsed": true
   },
   "outputs": [],
   "source": [
    "import shutil\n",
    "\n",
    "rs = requests.session() # session是用來延續整個登入動作\n",
    "\n",
    "question_mark = rs.get(\"驗證碼網址\",stream=True, verify=False)  # verify = True是像web浏览器一样。要想检查某个主机(伺服器端）的SSL证书..如果不要檢查，就打verify = False\n",
    "f = open(\"check.png\",\"wb\")\n",
    "shutil.copyfileobj(question_mark.raw,f)\n",
    "f.close()"
   ]
  },
  {
   "cell_type": "code",
   "execution_count": null,
   "metadata": {
    "collapsed": true
   },
   "outputs": [],
   "source": [
    "from IPython.display import Image\n",
    "Image(\"check.png\")"
   ]
  },
  {
   "cell_type": "code",
   "execution_count": null,
   "metadata": {
    "collapsed": true
   },
   "outputs": [],
   "source": [
    "payloda = {\n",
    "    \"queryType\":\"C\",\n",
    "    \"basic_select\":\"2\",\n",
    "    \"chinese_name\":\"台北\",\n",
    "    \"ccc_select\":\"1\",\n",
    "    \"pname_select\":\"1\",\n",
    "    \"txtCheckCode\":\"question_mark\"  # 此為驗證碼。到登入畫面的 Network-Img下找驗證碼。複製驗證碼網址,以Get方法下載。如上上一個cell\n",
    "}\n",
    "res = rs.post(url, data=payload, verify = False) #國貿局的url壞掉了，這邊先用url代替"
   ]
  },
  {
   "cell_type": "code",
   "execution_count": null,
   "metadata": {
    "collapsed": true
   },
   "outputs": [],
   "source": [
    "res.encoding = \"utf-8\"\n",
    "print(res.text)"
   ]
  },
  {
   "cell_type": "code",
   "execution_count": null,
   "metadata": {
    "collapsed": true
   },
   "outputs": [],
   "source": []
  }
 ],
 "metadata": {
  "kernelspec": {
   "display_name": "Python 3",
   "language": "python",
   "name": "python3"
  },
  "language_info": {
   "codemirror_mode": {
    "name": "ipython",
    "version": 3
   },
   "file_extension": ".py",
   "mimetype": "text/x-python",
   "name": "python",
   "nbconvert_exporter": "python",
   "pygments_lexer": "ipython3",
   "version": "3.5.2"
  }
 },
 "nbformat": 4,
 "nbformat_minor": 0
}
