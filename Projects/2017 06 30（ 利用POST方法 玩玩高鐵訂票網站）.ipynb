{
 "cells": [
  {
   "cell_type": "code",
   "execution_count": 49,
   "metadata": {
    "collapsed": true
   },
   "outputs": [],
   "source": [
    "# 參考資料： https://www.youtube.com/watch?v=Ef0kh6NPiBE"
   ]
  },
  {
   "cell_type": "code",
   "execution_count": 3,
   "metadata": {
    "collapsed": true
   },
   "outputs": [],
   "source": [
    "# Http有兩種常見傳輸(?)方法：一種是Get, 另一種是Post\n",
    "\n",
    "# Get像是明信片, Post像是信封（裏頭還要包一些東西,如等等會看到的 payload"
   ]
  },
  {
   "cell_type": "code",
   "execution_count": 4,
   "metadata": {
    "collapsed": true
   },
   "outputs": [],
   "source": [
    "# 以前大多都在學Get方法... 現在開始來碰碰Post"
   ]
  },
  {
   "cell_type": "code",
   "execution_count": 11,
   "metadata": {
    "collapsed": false
   },
   "outputs": [],
   "source": [
    "import numpy as np\n",
    "import pandas as pd\n",
    "from bs4 import BeautifulSoup"
   ]
  },
  {
   "cell_type": "code",
   "execution_count": 5,
   "metadata": {
    "collapsed": true
   },
   "outputs": [],
   "source": [
    "import requests\n",
    "payload = {\"StartStation\":\"977abb69-413a-4ccf-a109-0272c24fd490\",\n",
    "           \"EndStation\":\"9c5ac6ca-ec89-48f8-aab0-41b738cb1814\",\n",
    "           \"SearchDate\":\"2017/07/15\",\n",
    "           \"SearchTime\":\"13:30\",\n",
    "           \"SearchWay\":\"DepartureInMandarin\"\n",
    "}\n",
    "\n",
    "\n",
    "res = requests.post(\"http://www.thsrc.com.tw/tw/TimeTable/SearchResult\",data=payload)"
   ]
  },
  {
   "cell_type": "code",
   "execution_count": 12,
   "metadata": {
    "collapsed": false
   },
   "outputs": [],
   "source": [
    "soup = BeautifulSoup(res.text,\"lxml\")"
   ]
  },
  {
   "cell_type": "code",
   "execution_count": 22,
   "metadata": {
    "collapsed": false
   },
   "outputs": [],
   "source": [
    "# 這個步驟比較不容易...車次藏在table裡面, 要慢慢觀察\n",
    "\n",
    "blocks = soup.find_all(\"section\",\"result_table\")[0].find_all(\"td\",\"toTouch\") # find_all是找出整份document中的每一個 block"
   ]
  },
  {
   "cell_type": "code",
   "execution_count": 47,
   "metadata": {
    "collapsed": false
   },
   "outputs": [],
   "source": [
    "g = []\n",
    "for i in blocks:\n",
    "    g.append(i.find(\"td\",\"column1\").text)"
   ]
  },
  {
   "cell_type": "code",
   "execution_count": 48,
   "metadata": {
    "collapsed": false
   },
   "outputs": [
    {
     "data": {
      "text/plain": [
       "['0645',\n",
       " '0833',\n",
       " '1649',\n",
       " '0651',\n",
       " '0837',\n",
       " '1655',\n",
       " '0657',\n",
       " '0841',\n",
       " '0661',\n",
       " '0663']"
      ]
     },
     "execution_count": 48,
     "metadata": {},
     "output_type": "execute_result"
    }
   ],
   "source": [
    "#  找符合查詢條件的車次\n",
    "g"
   ]
  },
  {
   "cell_type": "code",
   "execution_count": null,
   "metadata": {
    "collapsed": true
   },
   "outputs": [],
   "source": []
  }
 ],
 "metadata": {
  "kernelspec": {
   "display_name": "Python 3",
   "language": "python",
   "name": "python3"
  },
  "language_info": {
   "codemirror_mode": {
    "name": "ipython",
    "version": 3
   },
   "file_extension": ".py",
   "mimetype": "text/x-python",
   "name": "python",
   "nbconvert_exporter": "python",
   "pygments_lexer": "ipython3",
   "version": "3.5.2"
  }
 },
 "nbformat": 4,
 "nbformat_minor": 0
}
