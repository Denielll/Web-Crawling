{
 "cells": [
  {
   "cell_type": "code",
   "execution_count": 1,
   "metadata": {
    "collapsed": true
   },
   "outputs": [],
   "source": [
    "import requests\n",
    "import pandas as pd\n",
    "import re\n",
    "import numpy as np"
   ]
  },
  {
   "cell_type": "markdown",
   "metadata": {},
   "source": [
    "### 本篇收穫..後來想了一下，上次幫傅爬得維基百科的table也可以這樣做！"
   ]
  },
  {
   "cell_type": "code",
   "execution_count": 51,
   "metadata": {
    "collapsed": true
   },
   "outputs": [],
   "source": [
    "d = pd.read_html(\"http://rate.bot.com.tw/xrt?Lang=zh-TW\")"
   ]
  },
  {
   "cell_type": "code",
   "execution_count": 52,
   "metadata": {
    "collapsed": false
   },
   "outputs": [
    {
     "data": {
      "text/plain": [
       "list"
      ]
     },
     "execution_count": 52,
     "metadata": {},
     "output_type": "execute_result"
    }
   ],
   "source": [
    "type(d)"
   ]
  },
  {
   "cell_type": "code",
   "execution_count": 53,
   "metadata": {
    "collapsed": false
   },
   "outputs": [
    {
     "data": {
      "text/plain": [
       "1"
      ]
     },
     "execution_count": 53,
     "metadata": {},
     "output_type": "execute_result"
    }
   ],
   "source": [
    "len(d)"
   ]
  },
  {
   "cell_type": "code",
   "execution_count": 54,
   "metadata": {
    "collapsed": false
   },
   "outputs": [],
   "source": [
    "df = d[0]"
   ]
  },
  {
   "cell_type": "code",
   "execution_count": 55,
   "metadata": {
    "collapsed": false
   },
   "outputs": [],
   "source": [
    "df = df.ix[:,0:5]"
   ]
  },
  {
   "cell_type": "code",
   "execution_count": 56,
   "metadata": {
    "collapsed": false
   },
   "outputs": [
    {
     "data": {
      "text/html": [
       "<div>\n",
       "<table border=\"1\" class=\"dataframe\">\n",
       "  <thead>\n",
       "    <tr style=\"text-align: right;\">\n",
       "      <th></th>\n",
       "      <th>幣別</th>\n",
       "      <th>幣別.1</th>\n",
       "      <th>現金匯率</th>\n",
       "      <th>Unnamed: 3</th>\n",
       "      <th>即期匯率</th>\n",
       "    </tr>\n",
       "  </thead>\n",
       "  <tbody>\n",
       "    <tr>\n",
       "      <th>0</th>\n",
       "      <td>美金 (USD)  美金 (USD)</td>\n",
       "      <td>30.07</td>\n",
       "      <td>30.612</td>\n",
       "      <td>30.37</td>\n",
       "      <td>30.47</td>\n",
       "    </tr>\n",
       "    <tr>\n",
       "      <th>1</th>\n",
       "      <td>港幣 (HKD)  港幣 (HKD)</td>\n",
       "      <td>3.747</td>\n",
       "      <td>3.942</td>\n",
       "      <td>3.867</td>\n",
       "      <td>3.927</td>\n",
       "    </tr>\n",
       "    <tr>\n",
       "      <th>2</th>\n",
       "      <td>英鎊 (GBP)  英鎊 (GBP)</td>\n",
       "      <td>38.52</td>\n",
       "      <td>40.45</td>\n",
       "      <td>39.39</td>\n",
       "      <td>39.81</td>\n",
       "    </tr>\n",
       "    <tr>\n",
       "      <th>3</th>\n",
       "      <td>澳幣 (AUD)  澳幣 (AUD)</td>\n",
       "      <td>23.04</td>\n",
       "      <td>23.7</td>\n",
       "      <td>23.23</td>\n",
       "      <td>23.46</td>\n",
       "    </tr>\n",
       "    <tr>\n",
       "      <th>4</th>\n",
       "      <td>加拿大幣 (CAD)  加拿大幣 (CAD)</td>\n",
       "      <td>23.04</td>\n",
       "      <td>23.78</td>\n",
       "      <td>23.31</td>\n",
       "      <td>23.53</td>\n",
       "    </tr>\n",
       "  </tbody>\n",
       "</table>\n",
       "</div>"
      ],
      "text/plain": [
       "                       幣別   幣別.1    現金匯率 Unnamed: 3   即期匯率\n",
       "0      美金 (USD)  美金 (USD)  30.07  30.612      30.37  30.47\n",
       "1      港幣 (HKD)  港幣 (HKD)  3.747   3.942      3.867  3.927\n",
       "2      英鎊 (GBP)  英鎊 (GBP)  38.52   40.45      39.39  39.81\n",
       "3      澳幣 (AUD)  澳幣 (AUD)  23.04    23.7      23.23  23.46\n",
       "4  加拿大幣 (CAD)  加拿大幣 (CAD)  23.04   23.78      23.31  23.53"
      ]
     },
     "execution_count": 56,
     "metadata": {},
     "output_type": "execute_result"
    }
   ],
   "source": [
    "df.head()"
   ]
  },
  {
   "cell_type": "code",
   "execution_count": 57,
   "metadata": {
    "collapsed": true
   },
   "outputs": [],
   "source": [
    "df.columns = [\"幣別\",\"現金匯率本行買入\",\"現金匯率本行賣出\",\"即期匯率本行買入\",\"即期匯率本行賣出\"]"
   ]
  },
  {
   "cell_type": "code",
   "execution_count": 58,
   "metadata": {
    "collapsed": false
   },
   "outputs": [
    {
     "data": {
      "text/html": [
       "<div>\n",
       "<table border=\"1\" class=\"dataframe\">\n",
       "  <thead>\n",
       "    <tr style=\"text-align: right;\">\n",
       "      <th></th>\n",
       "      <th>幣別</th>\n",
       "      <th>現金匯率本行買入</th>\n",
       "      <th>現金匯率本行賣出</th>\n",
       "      <th>即期匯率本行買入</th>\n",
       "      <th>即期匯率本行賣出</th>\n",
       "    </tr>\n",
       "  </thead>\n",
       "  <tbody>\n",
       "    <tr>\n",
       "      <th>0</th>\n",
       "      <td>美金 (USD)  美金 (USD)</td>\n",
       "      <td>30.07</td>\n",
       "      <td>30.612</td>\n",
       "      <td>30.37</td>\n",
       "      <td>30.47</td>\n",
       "    </tr>\n",
       "    <tr>\n",
       "      <th>1</th>\n",
       "      <td>港幣 (HKD)  港幣 (HKD)</td>\n",
       "      <td>3.747</td>\n",
       "      <td>3.942</td>\n",
       "      <td>3.867</td>\n",
       "      <td>3.927</td>\n",
       "    </tr>\n",
       "    <tr>\n",
       "      <th>2</th>\n",
       "      <td>英鎊 (GBP)  英鎊 (GBP)</td>\n",
       "      <td>38.52</td>\n",
       "      <td>40.45</td>\n",
       "      <td>39.39</td>\n",
       "      <td>39.81</td>\n",
       "    </tr>\n",
       "    <tr>\n",
       "      <th>3</th>\n",
       "      <td>澳幣 (AUD)  澳幣 (AUD)</td>\n",
       "      <td>23.04</td>\n",
       "      <td>23.7</td>\n",
       "      <td>23.23</td>\n",
       "      <td>23.46</td>\n",
       "    </tr>\n",
       "    <tr>\n",
       "      <th>4</th>\n",
       "      <td>加拿大幣 (CAD)  加拿大幣 (CAD)</td>\n",
       "      <td>23.04</td>\n",
       "      <td>23.78</td>\n",
       "      <td>23.31</td>\n",
       "      <td>23.53</td>\n",
       "    </tr>\n",
       "    <tr>\n",
       "      <th>5</th>\n",
       "      <td>新加坡幣 (SGD)  新加坡幣 (SGD)</td>\n",
       "      <td>21.59</td>\n",
       "      <td>22.37</td>\n",
       "      <td>22.01</td>\n",
       "      <td>22.19</td>\n",
       "    </tr>\n",
       "    <tr>\n",
       "      <th>6</th>\n",
       "      <td>瑞士法郎 (CHF)  瑞士法郎 (CHF)</td>\n",
       "      <td>31.06</td>\n",
       "      <td>32.12</td>\n",
       "      <td>31.59</td>\n",
       "      <td>31.88</td>\n",
       "    </tr>\n",
       "    <tr>\n",
       "      <th>7</th>\n",
       "      <td>日圓 (JPY)  日圓 (JPY)</td>\n",
       "      <td>0.2632</td>\n",
       "      <td>0.2742</td>\n",
       "      <td>0.2696</td>\n",
       "      <td>0.2736</td>\n",
       "    </tr>\n",
       "    <tr>\n",
       "      <th>8</th>\n",
       "      <td>南非幣 (ZAR)  南非幣 (ZAR)</td>\n",
       "      <td>-</td>\n",
       "      <td>-</td>\n",
       "      <td>2.28</td>\n",
       "      <td>2.36</td>\n",
       "    </tr>\n",
       "    <tr>\n",
       "      <th>9</th>\n",
       "      <td>瑞典幣 (SEK)  瑞典幣 (SEK)</td>\n",
       "      <td>3.21</td>\n",
       "      <td>3.72</td>\n",
       "      <td>3.55</td>\n",
       "      <td>3.65</td>\n",
       "    </tr>\n",
       "    <tr>\n",
       "      <th>10</th>\n",
       "      <td>紐元 (NZD)  紐元 (NZD)</td>\n",
       "      <td>21.95</td>\n",
       "      <td>22.58</td>\n",
       "      <td>22.19</td>\n",
       "      <td>22.39</td>\n",
       "    </tr>\n",
       "    <tr>\n",
       "      <th>11</th>\n",
       "      <td>泰幣 (THB)  泰幣 (THB)</td>\n",
       "      <td>0.7917</td>\n",
       "      <td>0.9347</td>\n",
       "      <td>0.8802</td>\n",
       "      <td>0.9202</td>\n",
       "    </tr>\n",
       "    <tr>\n",
       "      <th>12</th>\n",
       "      <td>菲國比索 (PHP)  菲國比索 (PHP)</td>\n",
       "      <td>0.5528</td>\n",
       "      <td>0.6858</td>\n",
       "      <td>-</td>\n",
       "      <td>-</td>\n",
       "    </tr>\n",
       "    <tr>\n",
       "      <th>13</th>\n",
       "      <td>印尼幣 (IDR)  印尼幣 (IDR)</td>\n",
       "      <td>0.00198</td>\n",
       "      <td>0.00268</td>\n",
       "      <td>-</td>\n",
       "      <td>-</td>\n",
       "    </tr>\n",
       "    <tr>\n",
       "      <th>14</th>\n",
       "      <td>歐元 (EUR)  歐元 (EUR)</td>\n",
       "      <td>34.02</td>\n",
       "      <td>35.17</td>\n",
       "      <td>34.52</td>\n",
       "      <td>34.92</td>\n",
       "    </tr>\n",
       "    <tr>\n",
       "      <th>15</th>\n",
       "      <td>韓元 (KRW)  韓元 (KRW)</td>\n",
       "      <td>0.02481</td>\n",
       "      <td>0.02871</td>\n",
       "      <td>-</td>\n",
       "      <td>-</td>\n",
       "    </tr>\n",
       "    <tr>\n",
       "      <th>16</th>\n",
       "      <td>越南盾 (VND)  越南盾 (VND)</td>\n",
       "      <td>0.00097</td>\n",
       "      <td>0.00147</td>\n",
       "      <td>-</td>\n",
       "      <td>-</td>\n",
       "    </tr>\n",
       "    <tr>\n",
       "      <th>17</th>\n",
       "      <td>馬來幣 (MYR)  馬來幣 (MYR)</td>\n",
       "      <td>6.034</td>\n",
       "      <td>7.569</td>\n",
       "      <td>-</td>\n",
       "      <td>-</td>\n",
       "    </tr>\n",
       "    <tr>\n",
       "      <th>18</th>\n",
       "      <td>人民幣 (CNY)  人民幣 (CNY)</td>\n",
       "      <td>4.389</td>\n",
       "      <td>4.551</td>\n",
       "      <td>4.461</td>\n",
       "      <td>4.511</td>\n",
       "    </tr>\n",
       "  </tbody>\n",
       "</table>\n",
       "</div>"
      ],
      "text/plain": [
       "                        幣別 現金匯率本行買入 現金匯率本行賣出 即期匯率本行買入 即期匯率本行賣出\n",
       "0       美金 (USD)  美金 (USD)    30.07   30.612    30.37    30.47\n",
       "1       港幣 (HKD)  港幣 (HKD)    3.747    3.942    3.867    3.927\n",
       "2       英鎊 (GBP)  英鎊 (GBP)    38.52    40.45    39.39    39.81\n",
       "3       澳幣 (AUD)  澳幣 (AUD)    23.04     23.7    23.23    23.46\n",
       "4   加拿大幣 (CAD)  加拿大幣 (CAD)    23.04    23.78    23.31    23.53\n",
       "5   新加坡幣 (SGD)  新加坡幣 (SGD)    21.59    22.37    22.01    22.19\n",
       "6   瑞士法郎 (CHF)  瑞士法郎 (CHF)    31.06    32.12    31.59    31.88\n",
       "7       日圓 (JPY)  日圓 (JPY)   0.2632   0.2742   0.2696   0.2736\n",
       "8     南非幣 (ZAR)  南非幣 (ZAR)        -        -     2.28     2.36\n",
       "9     瑞典幣 (SEK)  瑞典幣 (SEK)     3.21     3.72     3.55     3.65\n",
       "10      紐元 (NZD)  紐元 (NZD)    21.95    22.58    22.19    22.39\n",
       "11      泰幣 (THB)  泰幣 (THB)   0.7917   0.9347   0.8802   0.9202\n",
       "12  菲國比索 (PHP)  菲國比索 (PHP)   0.5528   0.6858        -        -\n",
       "13    印尼幣 (IDR)  印尼幣 (IDR)  0.00198  0.00268        -        -\n",
       "14      歐元 (EUR)  歐元 (EUR)    34.02    35.17    34.52    34.92\n",
       "15      韓元 (KRW)  韓元 (KRW)  0.02481  0.02871        -        -\n",
       "16    越南盾 (VND)  越南盾 (VND)  0.00097  0.00147        -        -\n",
       "17    馬來幣 (MYR)  馬來幣 (MYR)    6.034    7.569        -        -\n",
       "18    人民幣 (CNY)  人民幣 (CNY)    4.389    4.551    4.461    4.511"
      ]
     },
     "execution_count": 58,
     "metadata": {},
     "output_type": "execute_result"
    }
   ],
   "source": [
    "df"
   ]
  },
  {
   "cell_type": "code",
   "execution_count": 59,
   "metadata": {
    "collapsed": true
   },
   "outputs": [],
   "source": [
    "# 去除幣別中重複出現的東東"
   ]
  },
  {
   "cell_type": "code",
   "execution_count": 60,
   "metadata": {
    "collapsed": false
   },
   "outputs": [],
   "source": [
    "# 用昨天晚上學到的 df.iterrows() 練習\n",
    "\n",
    "for index,row in df.iterrows():\n",
    "    ax = \"\".join(row[\"幣別\"].split()[0:2])\n",
    "    df.loc[index,\"幣別\"] = ax           # df.loc[index,cloumn_name]"
   ]
  },
  {
   "cell_type": "code",
   "execution_count": null,
   "metadata": {
    "collapsed": true
   },
   "outputs": [],
   "source": []
  },
  {
   "cell_type": "code",
   "execution_count": 75,
   "metadata": {
    "collapsed": true
   },
   "outputs": [],
   "source": [
    "# df.to_csv(\"台灣銀行牌告匯率\")"
   ]
  },
  {
   "cell_type": "code",
   "execution_count": null,
   "metadata": {
    "collapsed": true
   },
   "outputs": [],
   "source": []
  },
  {
   "cell_type": "code",
   "execution_count": 73,
   "metadata": {
    "collapsed": false
   },
   "outputs": [
    {
     "name": "stderr",
     "output_type": "stream",
     "text": [
      "/Users/deniel3678/anaconda3/lib/python3.5/site-packages/ipykernel/__main__.py:1: FutureWarning: currently extract(expand=None) means expand=False (return Index/Series/DataFrame) but in a future version of pandas this will be changed to expand=True (return DataFrame)\n",
      "  if __name__ == '__main__':\n"
     ]
    },
    {
     "data": {
      "text/plain": [
       "0     USD\n",
       "1     HKD\n",
       "2     GBP\n",
       "3     AUD\n",
       "4     CAD\n",
       "5     SGD\n",
       "6     CHF\n",
       "7     JPY\n",
       "8     ZAR\n",
       "9     SEK\n",
       "10    NZD\n",
       "11    THB\n",
       "12    PHP\n",
       "13    IDR\n",
       "14    EUR\n",
       "15    KRW\n",
       "16    VND\n",
       "17    MYR\n",
       "18    CNY\n",
       "Name: 幣別, dtype: object"
      ]
     },
     "execution_count": 73,
     "metadata": {},
     "output_type": "execute_result"
    }
   ],
   "source": [
    "# 順便玩一下re\n",
    "\n",
    "df[\"幣別\"].str.extract(\"\\((\\w+)\\)\")  # 第二個 \\ 是用來escape小括號"
   ]
  },
  {
   "cell_type": "code",
   "execution_count": null,
   "metadata": {
    "collapsed": true
   },
   "outputs": [],
   "source": []
  }
 ],
 "metadata": {
  "kernelspec": {
   "display_name": "Python 3",
   "language": "python",
   "name": "python3"
  },
  "language_info": {
   "codemirror_mode": {
    "name": "ipython",
    "version": 3
   },
   "file_extension": ".py",
   "mimetype": "text/x-python",
   "name": "python",
   "nbconvert_exporter": "python",
   "pygments_lexer": "ipython3",
   "version": "3.5.2"
  }
 },
 "nbformat": 4,
 "nbformat_minor": 0
}
