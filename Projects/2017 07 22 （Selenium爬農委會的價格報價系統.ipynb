{
 "cells": [
  {
   "cell_type": "code",
   "execution_count": 1,
   "metadata": {
    "collapsed": true
   },
   "outputs": [],
   "source": [
    "# 此網頁以Asp.net寫成 比較特殊，可以以Selenium抓取"
   ]
  },
  {
   "cell_type": "code",
   "execution_count": 184,
   "metadata": {
    "collapsed": false
   },
   "outputs": [],
   "source": [
    "import pandas as pd\n",
    "import numpy as np\n",
    "import matplotlib.pyplot as plt\n",
    "%matplotlib inline\n",
    "import requests\n",
    "from bs4 import BeautifulSoup\n",
    "from selenium import webdriver\n",
    "from selenium.webdriver.support.ui import Select"
   ]
  },
  {
   "cell_type": "code",
   "execution_count": 220,
   "metadata": {
    "collapsed": true
   },
   "outputs": [],
   "source": [
    "import time"
   ]
  },
  {
   "cell_type": "markdown",
   "metadata": {},
   "source": [
    "# 開始抓取"
   ]
  },
  {
   "cell_type": "code",
   "execution_count": 427,
   "metadata": {
    "collapsed": false
   },
   "outputs": [],
   "source": [
    "Big_List = []\n",
    "\n",
    "url = \"http://apis.afa.gov.tw/pagepub/AppContentPage.aspx?itemNo=PRI075\"\n",
    "driver = webdriver.Chrome(\"/Users/deniel3678/Desktop/Python/爬蟲/chromedriver\")\n",
    "driver.get(url)\n",
    "\n",
    "\n",
    "element = driver.find_element_by_id(\"PRI095\")  #各地價格查詢\n",
    "element.click()\n",
    "\n",
    "time.sleep(9)\n",
    "\n",
    "driver.find_element_by_id(\"WR1_2_Q_AvgPriceType_C1_1\").click() #月平均價格\n",
    "\n",
    "\n",
    "\n",
    "for i in range(1,13,1):\n",
    "    time.sleep(7)\n",
    "    Select(driver.find_element_by_id(\"WR1_2_Q_PRSR_Month_C1\")).select_by_visible_text(\"{}\".format(i))     # 第幾個月\n",
    "    Select(driver.find_element_by_id(\"WR1_2_Q_GroupCode_XX_C1\")).select_by_visible_text(u\"蔬菜類\")\n",
    "\n",
    "\n",
    "    for i in range(78):\n",
    "        time.sleep(3)\n",
    "        driver.find_element_by_css_selector(\"option[value=\\\"01\\\"]\").click()\n",
    "        driver.find_element_by_id(\"WR1_2_PRMG_01_{}\".format(i)).click()                          # crop 0~77\n",
    "        driver.find_element_by_css_selector(\"a.CSS_ABS_NormalLink > span\").click()\n",
    "\n",
    "        # switch to new window\n",
    "        time.sleep(5)\n",
    "        window_after = driver.window_handles[1]   # [1]代表新開啟的視窗位置\n",
    "        driver.switch_to_window(window_after)\n",
    "        soup = BeautifulSoup(driver.page_source,\"lxml\")\n",
    "\n",
    "\n",
    "\n",
    "        p = []\n",
    "        l = []\n",
    "        n = []\n",
    "        try:\n",
    "            for i in range(4,50,2):\n",
    "                a = soup.find_all(\"td\")[i].string\n",
    "                b = soup.find_all(\"td\")[i+1].string\n",
    "                p.append(a)\n",
    "                l.append(b)\n",
    "        except:\n",
    "            pass\n",
    "        n.append(soup.find_all(\"span\")[2].string)\n",
    "        n = n*len(p)\n",
    "        df = pd.DataFrame({'農會': p,'價格': l, '作物': n})\n",
    "\n",
    "\n",
    "        Big_List.append(df)   # 每月每項目為一個DataFrame。\n",
    "\n",
    "\n",
    "        driver.close()\n",
    "\n",
    "        window_before = driver.window_handles[0]\n",
    "        driver.switch_to_window(window_before)"
   ]
  },
  {
   "cell_type": "code",
   "execution_count": 462,
   "metadata": {
    "collapsed": false
   },
   "outputs": [],
   "source": [
    "veg = pd.concat(Big_List,axis=0)  # 把不同DataFrame串起來"
   ]
  },
  {
   "cell_type": "code",
   "execution_count": 463,
   "metadata": {
    "collapsed": false
   },
   "outputs": [],
   "source": [
    "veg.reset_index(inplace=True)\n",
    "del veg[\"index\"]"
   ]
  },
  {
   "cell_type": "code",
   "execution_count": 467,
   "metadata": {
    "collapsed": false
   },
   "outputs": [
    {
     "data": {
      "text/html": [
       "<div>\n",
       "<table border=\"1\" class=\"dataframe\">\n",
       "  <thead>\n",
       "    <tr style=\"text-align: right;\">\n",
       "      <th></th>\n",
       "      <th>作物</th>\n",
       "      <th>價格</th>\n",
       "      <th>農會</th>\n",
       "    </tr>\n",
       "  </thead>\n",
       "  <tbody>\n",
       "    <tr>\n",
       "      <th>0</th>\n",
       "      <td>作物名稱：蘿蔔</td>\n",
       "      <td>6.17</td>\n",
       "      <td>雲林縣_四湖鄉農會 _01月</td>\n",
       "    </tr>\n",
       "    <tr>\n",
       "      <th>1</th>\n",
       "      <td>作物名稱：蘿蔔</td>\n",
       "      <td>6.67</td>\n",
       "      <td>彰化縣_芳苑鄉農會 _01月</td>\n",
       "    </tr>\n",
       "    <tr>\n",
       "      <th>2</th>\n",
       "      <td>作物名稱：蘿蔔</td>\n",
       "      <td>6.17</td>\n",
       "      <td>雲林縣_台西鄉農會 _01月</td>\n",
       "    </tr>\n",
       "    <tr>\n",
       "      <th>3</th>\n",
       "      <td>作物名稱：蘿蔔</td>\n",
       "      <td>7</td>\n",
       "      <td>嘉義縣_布袋鎮農會 _01月</td>\n",
       "    </tr>\n",
       "    <tr>\n",
       "      <th>4</th>\n",
       "      <td>作物名稱：蘿蔔</td>\n",
       "      <td>6.21</td>\n",
       "      <td>彰化縣_福興鄉農會 _01月</td>\n",
       "    </tr>\n",
       "  </tbody>\n",
       "</table>\n",
       "</div>"
      ],
      "text/plain": [
       "        作物    價格              農會\n",
       "0  作物名稱：蘿蔔  6.17  雲林縣_四湖鄉農會 _01月\n",
       "1  作物名稱：蘿蔔  6.67  彰化縣_芳苑鄉農會 _01月\n",
       "2  作物名稱：蘿蔔  6.17  雲林縣_台西鄉農會 _01月\n",
       "3  作物名稱：蘿蔔     7  嘉義縣_布袋鎮農會 _01月\n",
       "4  作物名稱：蘿蔔  6.21  彰化縣_福興鄉農會 _01月"
      ]
     },
     "execution_count": 467,
     "metadata": {},
     "output_type": "execute_result"
    }
   ],
   "source": [
    "veg.head()"
   ]
  }
 ],
 "metadata": {
  "kernelspec": {
   "display_name": "Python 3",
   "language": "python",
   "name": "python3"
  },
  "language_info": {
   "codemirror_mode": {
    "name": "ipython",
    "version": 3
   },
   "file_extension": ".py",
   "mimetype": "text/x-python",
   "name": "python",
   "nbconvert_exporter": "python",
   "pygments_lexer": "ipython3",
   "version": "3.5.2"
  }
 },
 "nbformat": 4,
 "nbformat_minor": 0
}
