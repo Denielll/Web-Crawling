{
 "cells": [
  {
   "cell_type": "code",
   "execution_count": 113,
   "metadata": {
    "collapsed": true
   },
   "outputs": [],
   "source": [
    "# 爬取網站：https://jeremysu0131.github.io/#/disasterdata"
   ]
  },
  {
   "cell_type": "code",
   "execution_count": 115,
   "metadata": {
    "collapsed": true
   },
   "outputs": [],
   "source": [
    "import pandas as pd\n",
    "import requests\n",
    "from bs4 import BeautifulSoup"
   ]
  },
  {
   "cell_type": "code",
   "execution_count": 119,
   "metadata": {
    "collapsed": true
   },
   "outputs": [],
   "source": [
    "a = requests.get(\"https://tcgbusfs.blob.core.windows.net/blobfs/GetDisasterSummary.json\")"
   ]
  },
  {
   "cell_type": "code",
   "execution_count": 120,
   "metadata": {
    "collapsed": false
   },
   "outputs": [],
   "source": [
    "test = a.json()[\"DataSet\"][\"diffgr:diffgram\"]['NewDataSet']['CASE_SUMMARY']"
   ]
  },
  {
   "cell_type": "code",
   "execution_count": 123,
   "metadata": {
    "collapsed": false
   },
   "outputs": [
    {
     "data": {
      "text/html": [
       "<div>\n",
       "<table border=\"1\" class=\"dataframe\">\n",
       "  <thead>\n",
       "    <tr style=\"text-align: right;\">\n",
       "      <th></th>\n",
       "      <th>-diffgr:id</th>\n",
       "      <th>-msdata:rowOrder</th>\n",
       "      <th>CaseCommunicatorUnit</th>\n",
       "      <th>CaseComplete</th>\n",
       "      <th>CaseDescription</th>\n",
       "      <th>CaseID</th>\n",
       "      <th>CaseLocationDescription</th>\n",
       "      <th>CaseLocationDistrict</th>\n",
       "      <th>CaseSN</th>\n",
       "      <th>CaseSerious</th>\n",
       "      <th>CaseTime</th>\n",
       "      <th>DPName</th>\n",
       "      <th>Name</th>\n",
       "      <th>PName</th>\n",
       "      <th>Wgs84X</th>\n",
       "      <th>Wgs84Y</th>\n",
       "    </tr>\n",
       "  </thead>\n",
       "  <tbody>\n",
       "    <tr>\n",
       "      <th>0</th>\n",
       "      <td>CASE_SUMMARY1</td>\n",
       "      <td>0</td>\n",
       "      <td>信義區應變中心</td>\n",
       "      <td>true</td>\n",
       "      <td>車輛無法通行</td>\n",
       "      <td>743f18e7-29ca-440b-8c44-1f511aab2bee-app</td>\n",
       "      <td>忠孝東路4段553巷與基隆路一段102巷交叉口</td>\n",
       "      <td>信義區</td>\n",
       "      <td>2994</td>\n",
       "      <td>0</td>\n",
       "      <td>2017-07-30 22:04:33</td>\n",
       "      <td>0728尼莎颱風</td>\n",
       "      <td>路樹傾倒</td>\n",
       "      <td>路樹災情</td>\n",
       "      <td>121.57535552978516</td>\n",
       "      <td>24.988143920898438</td>\n",
       "    </tr>\n",
       "    <tr>\n",
       "      <th>1</th>\n",
       "      <td>CASE_SUMMARY2</td>\n",
       "      <td>1</td>\n",
       "      <td>士林區應變中心</td>\n",
       "      <td>true</td>\n",
       "      <td>至善路2段360號至善國中停電</td>\n",
       "      <td>2629cf52-bd1d-4c6c-8c5f-13b58261549d-app</td>\n",
       "      <td>至善路2段360號至善國中停電</td>\n",
       "      <td>士林區</td>\n",
       "      <td>2993</td>\n",
       "      <td>0</td>\n",
       "      <td>2017-07-30 19:26:15</td>\n",
       "      <td>0728尼莎颱風</td>\n",
       "      <td>電力停電</td>\n",
       "      <td>民生、基礎設施災情</td>\n",
       "      <td>121.55706024169922</td>\n",
       "      <td>25.104747772216797</td>\n",
       "    </tr>\n",
       "  </tbody>\n",
       "</table>\n",
       "</div>"
      ],
      "text/plain": [
       "      -diffgr:id -msdata:rowOrder CaseCommunicatorUnit CaseComplete  \\\n",
       "0  CASE_SUMMARY1                0              信義區應變中心         true   \n",
       "1  CASE_SUMMARY2                1              士林區應變中心         true   \n",
       "\n",
       "   CaseDescription                                    CaseID  \\\n",
       "0           車輛無法通行  743f18e7-29ca-440b-8c44-1f511aab2bee-app   \n",
       "1  至善路2段360號至善國中停電  2629cf52-bd1d-4c6c-8c5f-13b58261549d-app   \n",
       "\n",
       "   CaseLocationDescription CaseLocationDistrict CaseSN CaseSerious  \\\n",
       "0  忠孝東路4段553巷與基隆路一段102巷交叉口                  信義區   2994           0   \n",
       "1          至善路2段360號至善國中停電                  士林區   2993           0   \n",
       "\n",
       "                         CaseTime    DPName  Name      PName  \\\n",
       "0  2017-07-30 22:04:33             0728尼莎颱風  路樹傾倒       路樹災情   \n",
       "1  2017-07-30 19:26:15             0728尼莎颱風  電力停電  民生、基礎設施災情   \n",
       "\n",
       "               Wgs84X              Wgs84Y  \n",
       "0  121.57535552978516  24.988143920898438  \n",
       "1  121.55706024169922  25.104747772216797  "
      ]
     },
     "execution_count": 123,
     "metadata": {},
     "output_type": "execute_result"
    }
   ],
   "source": [
    "d = pd.DataFrame(test)\n",
    "d.head(2)"
   ]
  },
  {
   "cell_type": "code",
   "execution_count": 125,
   "metadata": {
    "collapsed": false
   },
   "outputs": [
    {
     "name": "stdout",
     "output_type": "stream",
     "text": [
      "總共: 2611 筆\n"
     ]
    }
   ],
   "source": [
    "print(\"總共:\",len(d),\"筆\")"
   ]
  },
  {
   "cell_type": "code",
   "execution_count": null,
   "metadata": {
    "collapsed": true
   },
   "outputs": [],
   "source": []
  }
 ],
 "metadata": {
  "kernelspec": {
   "display_name": "Python 3",
   "language": "python",
   "name": "python3"
  },
  "language_info": {
   "codemirror_mode": {
    "name": "ipython",
    "version": 3
   },
   "file_extension": ".py",
   "mimetype": "text/x-python",
   "name": "python",
   "nbconvert_exporter": "python",
   "pygments_lexer": "ipython3",
   "version": "3.5.3"
  }
 },
 "nbformat": 4,
 "nbformat_minor": 0
}
