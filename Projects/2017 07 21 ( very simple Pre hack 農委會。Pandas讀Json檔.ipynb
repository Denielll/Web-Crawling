{
 "cells": [
  {
   "cell_type": "code",
   "execution_count": 1,
   "metadata": {
    "collapsed": true
   },
   "outputs": [],
   "source": [
    "import pandas as pd \n",
    "import numpy as np\n",
    "import matplotlib.pyplot as plt\n",
    "%matplotlib inline"
   ]
  },
  {
   "cell_type": "code",
   "execution_count": 2,
   "metadata": {
    "collapsed": true
   },
   "outputs": [],
   "source": [
    "# e.g. 農產品交易行情\n",
    "# http://data.coa.gov.tw/Query/ServiceDetail.aspx?id=037\n",
    "\n",
    "df = pd.read_json(\"http://data.coa.gov.tw/Service/OpenData/FromM/FarmTransData.aspx\")"
   ]
  },
  {
   "cell_type": "code",
   "execution_count": 38,
   "metadata": {
    "collapsed": false
   },
   "outputs": [
    {
     "data": {
      "text/html": [
       "<div>\n",
       "<table border=\"1\" class=\"dataframe\">\n",
       "  <thead>\n",
       "    <tr style=\"text-align: right;\">\n",
       "      <th></th>\n",
       "      <th>上價</th>\n",
       "      <th>下價</th>\n",
       "      <th>中價</th>\n",
       "      <th>交易日期</th>\n",
       "      <th>交易量</th>\n",
       "      <th>作物代號</th>\n",
       "      <th>作物名稱</th>\n",
       "      <th>市場代號</th>\n",
       "      <th>市場名稱</th>\n",
       "      <th>平均價</th>\n",
       "    </tr>\n",
       "  </thead>\n",
       "  <tbody>\n",
       "    <tr>\n",
       "      <th>0</th>\n",
       "      <td>32.9</td>\n",
       "      <td>11.3</td>\n",
       "      <td>23.9</td>\n",
       "      <td>106.07.20</td>\n",
       "      <td>2344.0</td>\n",
       "      <td>11</td>\n",
       "      <td>椰子</td>\n",
       "      <td>104</td>\n",
       "      <td>台北二</td>\n",
       "      <td>23.2</td>\n",
       "    </tr>\n",
       "    <tr>\n",
       "      <th>1</th>\n",
       "      <td>200.0</td>\n",
       "      <td>200.0</td>\n",
       "      <td>200.0</td>\n",
       "      <td>106.07.20</td>\n",
       "      <td>180.0</td>\n",
       "      <td>469</td>\n",
       "      <td>藍莓-進口藍莓</td>\n",
       "      <td>104</td>\n",
       "      <td>台北二</td>\n",
       "      <td>200.0</td>\n",
       "    </tr>\n",
       "    <tr>\n",
       "      <th>2</th>\n",
       "      <td>85.3</td>\n",
       "      <td>51.6</td>\n",
       "      <td>58.9</td>\n",
       "      <td>106.07.20</td>\n",
       "      <td>37.0</td>\n",
       "      <td>50</td>\n",
       "      <td>百香果-其他</td>\n",
       "      <td>104</td>\n",
       "      <td>台北二</td>\n",
       "      <td>62.7</td>\n",
       "    </tr>\n",
       "    <tr>\n",
       "      <th>3</th>\n",
       "      <td>137.7</td>\n",
       "      <td>36.4</td>\n",
       "      <td>69.6</td>\n",
       "      <td>106.07.20</td>\n",
       "      <td>2907.0</td>\n",
       "      <td>51</td>\n",
       "      <td>百香果-改良種</td>\n",
       "      <td>104</td>\n",
       "      <td>台北二</td>\n",
       "      <td>76.6</td>\n",
       "    </tr>\n",
       "    <tr>\n",
       "      <th>4</th>\n",
       "      <td>55.0</td>\n",
       "      <td>55.0</td>\n",
       "      <td>55.0</td>\n",
       "      <td>106.07.20</td>\n",
       "      <td>22.0</td>\n",
       "      <td>70</td>\n",
       "      <td>小番茄-其他</td>\n",
       "      <td>104</td>\n",
       "      <td>台北二</td>\n",
       "      <td>55.0</td>\n",
       "    </tr>\n",
       "  </tbody>\n",
       "</table>\n",
       "</div>"
      ],
      "text/plain": [
       "      上價     下價     中價       交易日期     交易量 作物代號     作物名稱  市場代號 市場名稱    平均價\n",
       "0   32.9   11.3   23.9  106.07.20  2344.0   11       椰子   104  台北二   23.2\n",
       "1  200.0  200.0  200.0  106.07.20   180.0  469  藍莓-進口藍莓   104  台北二  200.0\n",
       "2   85.3   51.6   58.9  106.07.20    37.0   50   百香果-其他   104  台北二   62.7\n",
       "3  137.7   36.4   69.6  106.07.20  2907.0   51  百香果-改良種   104  台北二   76.6\n",
       "4   55.0   55.0   55.0  106.07.20    22.0   70   小番茄-其他   104  台北二   55.0"
      ]
     },
     "execution_count": 38,
     "metadata": {},
     "output_type": "execute_result"
    }
   ],
   "source": [
    "df.head()"
   ]
  },
  {
   "cell_type": "code",
   "execution_count": null,
   "metadata": {
    "collapsed": true
   },
   "outputs": [],
   "source": []
  },
  {
   "cell_type": "code",
   "execution_count": 13,
   "metadata": {
    "collapsed": false
   },
   "outputs": [],
   "source": [
    "x = pd.read_html(\"http://info.organic.org.tw/supergood/front/bin/ptlist.phtml?Category=111029\")"
   ]
  },
  {
   "cell_type": "code",
   "execution_count": 39,
   "metadata": {
    "collapsed": false,
    "scrolled": false
   },
   "outputs": [
    {
     "data": {
      "text/html": [
       "<div>\n",
       "<table border=\"1\" class=\"dataframe\">\n",
       "  <thead>\n",
       "    <tr style=\"text-align: right;\">\n",
       "      <th></th>\n",
       "      <th>0</th>\n",
       "      <th>1</th>\n",
       "      <th>2</th>\n",
       "      <th>3</th>\n",
       "    </tr>\n",
       "  </thead>\n",
       "  <tbody>\n",
       "    <tr>\n",
       "      <th>0</th>\n",
       "      <td>市集名稱</td>\n",
       "      <td>時間</td>\n",
       "      <td>地點</td>\n",
       "      <td>網站</td>\n",
       "    </tr>\n",
       "    <tr>\n",
       "      <th>1</th>\n",
       "      <td>水花園有機農夫市集</td>\n",
       "      <td>每週六10:00~17:00</td>\n",
       "      <td>台北市中正區思源街1號(捷運公館4號出口）</td>\n",
       "      <td>https://goo.gl/X3DW4a</td>\n",
       "    </tr>\n",
       "    <tr>\n",
       "      <th>2</th>\n",
       "      <td>彎腰農夫市集</td>\n",
       "      <td>每月第三週週日10:00~17:00</td>\n",
       "      <td>台北市南昌路一段1號(國立臺灣博物館南門園區)</td>\n",
       "      <td>https://goo.gl/TJDpu https://goo.gl/aiBIHW</td>\n",
       "    </tr>\n",
       "    <tr>\n",
       "      <th>3</th>\n",
       "      <td>希望廣場農民市集</td>\n",
       "      <td>每週六10:00~19:00 週日10:00~18:00</td>\n",
       "      <td>台北市北平東路與林森北路口</td>\n",
       "      <td>https://goo.gl/QxGOe1 https://goo.gl/R7RpFr</td>\n",
       "    </tr>\n",
       "    <tr>\n",
       "      <th>4</th>\n",
       "      <td>田裡有腳印市集</td>\n",
       "      <td>每週六10:00~16:00</td>\n",
       "      <td>台北市中正區南昌路一段1號(國立台灣博物館 南門園區)</td>\n",
       "      <td>https://goo.gl/u85lBJ https://goo.gl/buRGP2</td>\n",
       "    </tr>\n",
       "  </tbody>\n",
       "</table>\n",
       "</div>"
      ],
      "text/plain": [
       "           0                             1                            2  \\\n",
       "0       市集名稱                            時間                           地點   \n",
       "1  水花園有機農夫市集                每週六10:00~17:00        台北市中正區思源街1號(捷運公館4號出口）   \n",
       "2     彎腰農夫市集            每月第三週週日10:00~17:00      台北市南昌路一段1號(國立臺灣博物館南門園區)   \n",
       "3   希望廣場農民市集  每週六10:00~19:00 週日10:00~18:00                台北市北平東路與林森北路口   \n",
       "4    田裡有腳印市集                每週六10:00~16:00  台北市中正區南昌路一段1號(國立台灣博物館 南門園區)   \n",
       "\n",
       "                                             3  \n",
       "0                                           網站  \n",
       "1                        https://goo.gl/X3DW4a  \n",
       "2   https://goo.gl/TJDpu https://goo.gl/aiBIHW  \n",
       "3  https://goo.gl/QxGOe1 https://goo.gl/R7RpFr  \n",
       "4  https://goo.gl/u85lBJ https://goo.gl/buRGP2  "
      ]
     },
     "execution_count": 39,
     "metadata": {},
     "output_type": "execute_result"
    }
   ],
   "source": [
    "x[24].head()"
   ]
  },
  {
   "cell_type": "code",
   "execution_count": null,
   "metadata": {
    "collapsed": true
   },
   "outputs": [],
   "source": []
  },
  {
   "cell_type": "code",
   "execution_count": null,
   "metadata": {
    "collapsed": true
   },
   "outputs": [],
   "source": []
  },
  {
   "cell_type": "code",
   "execution_count": null,
   "metadata": {
    "collapsed": true
   },
   "outputs": [],
   "source": []
  },
  {
   "cell_type": "code",
   "execution_count": null,
   "metadata": {
    "collapsed": true
   },
   "outputs": [],
   "source": []
  },
  {
   "cell_type": "code",
   "execution_count": null,
   "metadata": {
    "collapsed": true
   },
   "outputs": [],
   "source": []
  },
  {
   "cell_type": "code",
   "execution_count": null,
   "metadata": {
    "collapsed": true
   },
   "outputs": [],
   "source": []
  }
 ],
 "metadata": {
  "kernelspec": {
   "display_name": "Python 3",
   "language": "python",
   "name": "python3"
  },
  "language_info": {
   "codemirror_mode": {
    "name": "ipython",
    "version": 3
   },
   "file_extension": ".py",
   "mimetype": "text/x-python",
   "name": "python",
   "nbconvert_exporter": "python",
   "pygments_lexer": "ipython3",
   "version": "3.5.2"
  }
 },
 "nbformat": 4,
 "nbformat_minor": 0
}
