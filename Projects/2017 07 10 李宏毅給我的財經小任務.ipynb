{
 "cells": [
  {
   "cell_type": "code",
   "execution_count": 1,
   "metadata": {
    "collapsed": true
   },
   "outputs": [],
   "source": [
    "import requests\n",
    "import pandas as pd\n",
    "import numpy as np"
   ]
  },
  {
   "cell_type": "code",
   "execution_count": 2,
   "metadata": {
    "collapsed": true
   },
   "outputs": [],
   "source": [
    "d = pd.read_html(\"https://www.ishares.com/us/products/239726/\")"
   ]
  },
  {
   "cell_type": "code",
   "execution_count": 4,
   "metadata": {
    "collapsed": false
   },
   "outputs": [
    {
     "data": {
      "text/html": [
       "<div>\n",
       "<table border=\"1\" class=\"dataframe\">\n",
       "  <thead>\n",
       "    <tr style=\"text-align: right;\">\n",
       "      <th></th>\n",
       "      <th></th>\n",
       "      <th>1y</th>\n",
       "      <th>3y</th>\n",
       "      <th>5y</th>\n",
       "      <th>10y</th>\n",
       "      <th>Incept.</th>\n",
       "    </tr>\n",
       "  </thead>\n",
       "  <tbody>\n",
       "    <tr>\n",
       "      <th>0</th>\n",
       "      <td>Total Return (%) Total return represents chang...</td>\n",
       "      <td>17.85</td>\n",
       "      <td>9.56</td>\n",
       "      <td>14.57</td>\n",
       "      <td>7.13</td>\n",
       "      <td>5.00</td>\n",
       "    </tr>\n",
       "    <tr>\n",
       "      <th>1</th>\n",
       "      <td>Market Price (%) Market price return represent...</td>\n",
       "      <td>17.83</td>\n",
       "      <td>9.57</td>\n",
       "      <td>14.56</td>\n",
       "      <td>7.13</td>\n",
       "      <td>5.00</td>\n",
       "    </tr>\n",
       "    <tr>\n",
       "      <th>2</th>\n",
       "      <td>Benchmark (%) Index: S&amp;amp;P 500</td>\n",
       "      <td>17.90</td>\n",
       "      <td>9.61</td>\n",
       "      <td>14.63</td>\n",
       "      <td>7.18</td>\n",
       "      <td>5.07</td>\n",
       "    </tr>\n",
       "    <tr>\n",
       "      <th>3</th>\n",
       "      <td>After Tax Pre-Liq. (%) Return after taxes on d...</td>\n",
       "      <td>17.29</td>\n",
       "      <td>9.02</td>\n",
       "      <td>14.03</td>\n",
       "      <td>6.72</td>\n",
       "      <td>4.61</td>\n",
       "    </tr>\n",
       "    <tr>\n",
       "      <th>4</th>\n",
       "      <td>After Tax Post-Liq. (%) Return after taxes on ...</td>\n",
       "      <td>10.51</td>\n",
       "      <td>7.37</td>\n",
       "      <td>11.65</td>\n",
       "      <td>5.71</td>\n",
       "      <td>3.99</td>\n",
       "    </tr>\n",
       "  </tbody>\n",
       "</table>\n",
       "</div>"
      ],
      "text/plain": [
       "                                                      \\n1y   \\n3y   \\n5y   \\\n",
       "0  Total Return (%) Total return represents chang...  17.85   9.56  14.57   \n",
       "1  Market Price (%) Market price return represent...  17.83   9.57  14.56   \n",
       "2                   Benchmark (%) Index: S&amp;P 500  17.90   9.61  14.63   \n",
       "3  After Tax Pre-Liq. (%) Return after taxes on d...  17.29   9.02  14.03   \n",
       "4  After Tax Post-Liq. (%) Return after taxes on ...  10.51   7.37  11.65   \n",
       "\n",
       "   \\n10y   \\nIncept.   \n",
       "0    7.13        5.00  \n",
       "1    7.13        5.00  \n",
       "2    7.18        5.07  \n",
       "3    6.72        4.61  \n",
       "4    5.71        3.99  "
      ]
     },
     "execution_count": 4,
     "metadata": {},
     "output_type": "execute_result"
    }
   ],
   "source": [
    "d[0] # 李宏毅大師想要的"
   ]
  },
  {
   "cell_type": "markdown",
   "metadata": {
    "collapsed": true
   },
   "source": [
    "# 如何翻下一頁"
   ]
  },
  {
   "cell_type": "code",
   "execution_count": 17,
   "metadata": {
    "collapsed": true
   },
   "outputs": [],
   "source": [
    "# 此網頁的下一頁是類似拉條似選單。  此時，可以試試看拉條 然後到 Network-XHR裡頭觀察變化。可看到網址呈現規律。\n",
    "# 如以下網址，結尾有規律"
   ]
  },
  {
   "cell_type": "code",
   "execution_count": null,
   "metadata": {
    "collapsed": true
   },
   "outputs": [],
   "source": [
    "# https://www.ishares.com/us/products/239726/ishares-core-sp-500-etf/1467271812595.ajax?tab=returns&asOfDate=2017%2F04%2F30\n",
    "# https://www.ishares.com/us/products/239726/ishares-core-sp-500-etf/1467271812595.ajax?tab=returns&asOfDate=2017%2F05%2F31\n",
    "# https://www.ishares.com/us/products/239726/ishares-core-sp-500-etf/1467271812595.ajax?tab=returns&asOfDate=2017%2F02%2F28"
   ]
  },
  {
   "cell_type": "code",
   "execution_count": 15,
   "metadata": {
    "collapsed": true
   },
   "outputs": [],
   "source": [
    "d = pd.read_html(\"https://www.ishares.com/us/products/239726/ishares-core-sp-500-etf/1467271812595.ajax?tab=returns&asOfDate=2017%2F01%2F31\")\n",
    "a = pd.read_html(\"https://www.ishares.com/us/products/239726/ishares-core-sp-500-etf/1467271812595.ajax?tab=returns&asOfDate=2017%2F06%2F30\")"
   ]
  },
  {
   "cell_type": "code",
   "execution_count": 5,
   "metadata": {
    "collapsed": false
   },
   "outputs": [
    {
     "data": {
      "text/html": [
       "<div>\n",
       "<table border=\"1\" class=\"dataframe\">\n",
       "  <thead>\n",
       "    <tr style=\"text-align: right;\">\n",
       "      <th></th>\n",
       "      <th></th>\n",
       "      <th>1y</th>\n",
       "      <th>3y</th>\n",
       "      <th>5y</th>\n",
       "      <th>10y</th>\n",
       "      <th>Incept.</th>\n",
       "    </tr>\n",
       "  </thead>\n",
       "  <tbody>\n",
       "    <tr>\n",
       "      <th>0</th>\n",
       "      <td>Total Return (%) Total return represents chang...</td>\n",
       "      <td>19.97</td>\n",
       "      <td>10.79</td>\n",
       "      <td>14.02</td>\n",
       "      <td>6.94</td>\n",
       "      <td>4.68</td>\n",
       "    </tr>\n",
       "    <tr>\n",
       "      <th>1</th>\n",
       "      <td>Market Price (%) Market price return represent...</td>\n",
       "      <td>20.14</td>\n",
       "      <td>10.82</td>\n",
       "      <td>14.03</td>\n",
       "      <td>6.93</td>\n",
       "      <td>4.68</td>\n",
       "    </tr>\n",
       "    <tr>\n",
       "      <th>2</th>\n",
       "      <td>Benchmark (%) Index: S&amp;amp;P 500</td>\n",
       "      <td>20.04</td>\n",
       "      <td>10.85</td>\n",
       "      <td>14.09</td>\n",
       "      <td>6.99</td>\n",
       "      <td>4.75</td>\n",
       "    </tr>\n",
       "    <tr>\n",
       "      <th>3</th>\n",
       "      <td>After Tax Pre-Liq. (%) Return after taxes on d...</td>\n",
       "      <td>19.38</td>\n",
       "      <td>10.24</td>\n",
       "      <td>13.50</td>\n",
       "      <td>6.53</td>\n",
       "      <td>4.29</td>\n",
       "    </tr>\n",
       "    <tr>\n",
       "      <th>4</th>\n",
       "      <td>After Tax Post-Liq. (%) Return after taxes on ...</td>\n",
       "      <td>11.74</td>\n",
       "      <td>8.35</td>\n",
       "      <td>11.21</td>\n",
       "      <td>5.56</td>\n",
       "      <td>3.72</td>\n",
       "    </tr>\n",
       "  </tbody>\n",
       "</table>\n",
       "</div>"
      ],
      "text/plain": [
       "                                                      \\n1y   \\n3y   \\n5y   \\\n",
       "0  Total Return (%) Total return represents chang...  19.97  10.79  14.02   \n",
       "1  Market Price (%) Market price return represent...  20.14  10.82  14.03   \n",
       "2                   Benchmark (%) Index: S&amp;P 500  20.04  10.85  14.09   \n",
       "3  After Tax Pre-Liq. (%) Return after taxes on d...  19.38  10.24  13.50   \n",
       "4  After Tax Post-Liq. (%) Return after taxes on ...  11.74   8.35  11.21   \n",
       "\n",
       "   \\n10y   \\nIncept.   \n",
       "0    6.94        4.68  \n",
       "1    6.93        4.68  \n",
       "2    6.99        4.75  \n",
       "3    6.53        4.29  \n",
       "4    5.56        3.72  "
      ]
     },
     "execution_count": 5,
     "metadata": {},
     "output_type": "execute_result"
    }
   ],
   "source": [
    "d[0]"
   ]
  },
  {
   "cell_type": "code",
   "execution_count": 7,
   "metadata": {
    "collapsed": false
   },
   "outputs": [
    {
     "data": {
      "text/html": [
       "<div>\n",
       "<table border=\"1\" class=\"dataframe\">\n",
       "  <thead>\n",
       "    <tr style=\"text-align: right;\">\n",
       "      <th></th>\n",
       "      <th></th>\n",
       "      <th>1y</th>\n",
       "      <th>3y</th>\n",
       "      <th>5y</th>\n",
       "      <th>10y</th>\n",
       "      <th>Incept.</th>\n",
       "    </tr>\n",
       "  </thead>\n",
       "  <tbody>\n",
       "    <tr>\n",
       "      <th>0</th>\n",
       "      <td>Total Return (%) Total return represents chang...</td>\n",
       "      <td>17.85</td>\n",
       "      <td>9.56</td>\n",
       "      <td>14.57</td>\n",
       "      <td>7.13</td>\n",
       "      <td>5.00</td>\n",
       "    </tr>\n",
       "    <tr>\n",
       "      <th>1</th>\n",
       "      <td>Market Price (%) Market price return represent...</td>\n",
       "      <td>17.83</td>\n",
       "      <td>9.57</td>\n",
       "      <td>14.56</td>\n",
       "      <td>7.13</td>\n",
       "      <td>5.00</td>\n",
       "    </tr>\n",
       "    <tr>\n",
       "      <th>2</th>\n",
       "      <td>Benchmark (%) Index: S&amp;amp;P 500</td>\n",
       "      <td>17.90</td>\n",
       "      <td>9.61</td>\n",
       "      <td>14.63</td>\n",
       "      <td>7.18</td>\n",
       "      <td>5.07</td>\n",
       "    </tr>\n",
       "    <tr>\n",
       "      <th>3</th>\n",
       "      <td>After Tax Pre-Liq. (%) Return after taxes on d...</td>\n",
       "      <td>17.29</td>\n",
       "      <td>9.02</td>\n",
       "      <td>14.03</td>\n",
       "      <td>6.72</td>\n",
       "      <td>4.61</td>\n",
       "    </tr>\n",
       "    <tr>\n",
       "      <th>4</th>\n",
       "      <td>After Tax Post-Liq. (%) Return after taxes on ...</td>\n",
       "      <td>10.51</td>\n",
       "      <td>7.37</td>\n",
       "      <td>11.65</td>\n",
       "      <td>5.71</td>\n",
       "      <td>3.99</td>\n",
       "    </tr>\n",
       "  </tbody>\n",
       "</table>\n",
       "</div>"
      ],
      "text/plain": [
       "                                                      \\n1y   \\n3y   \\n5y   \\\n",
       "0  Total Return (%) Total return represents chang...  17.85   9.56  14.57   \n",
       "1  Market Price (%) Market price return represent...  17.83   9.57  14.56   \n",
       "2                   Benchmark (%) Index: S&amp;P 500  17.90   9.61  14.63   \n",
       "3  After Tax Pre-Liq. (%) Return after taxes on d...  17.29   9.02  14.03   \n",
       "4  After Tax Post-Liq. (%) Return after taxes on ...  10.51   7.37  11.65   \n",
       "\n",
       "   \\n10y   \\nIncept.   \n",
       "0    7.13        5.00  \n",
       "1    7.13        5.00  \n",
       "2    7.18        5.07  \n",
       "3    6.72        4.61  \n",
       "4    5.71        3.99  "
      ]
     },
     "execution_count": 7,
     "metadata": {},
     "output_type": "execute_result"
    }
   ],
   "source": [
    "a[0]"
   ]
  },
  {
   "cell_type": "code",
   "execution_count": null,
   "metadata": {
    "collapsed": true
   },
   "outputs": [],
   "source": []
  }
 ],
 "metadata": {
  "kernelspec": {
   "display_name": "Python 3",
   "language": "python",
   "name": "python3"
  },
  "language_info": {
   "codemirror_mode": {
    "name": "ipython",
    "version": 3
   },
   "file_extension": ".py",
   "mimetype": "text/x-python",
   "name": "python",
   "nbconvert_exporter": "python",
   "pygments_lexer": "ipython3",
   "version": "3.5.2"
  }
 },
 "nbformat": 4,
 "nbformat_minor": 0
}
