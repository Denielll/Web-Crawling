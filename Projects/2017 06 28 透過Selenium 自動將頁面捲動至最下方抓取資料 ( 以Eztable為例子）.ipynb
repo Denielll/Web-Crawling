{
 "cells": [
  {
   "cell_type": "code",
   "execution_count": 2,
   "metadata": {
    "collapsed": true
   },
   "outputs": [],
   "source": [
    "# 參考資料：https://www.youtube.com/watch?v=49Mwqbu2cMo\n",
    "\n",
    "# Selenium可呼叫Javascript，幫我們把頁面捲到最下方"
   ]
  },
  {
   "cell_type": "code",
   "execution_count": 5,
   "metadata": {
    "collapsed": true
   },
   "outputs": [],
   "source": [
    "import os\n",
    "import time, re\n",
    "from bs4 import BeautifulSoup\n",
    "from selenium import webdriver"
   ]
  },
  {
   "cell_type": "code",
   "execution_count": 6,
   "metadata": {
    "collapsed": false
   },
   "outputs": [
    {
     "data": {
      "text/plain": [
       "'/Users/deniel3678/Desktop/Python/爬蟲'"
      ]
     },
     "execution_count": 6,
     "metadata": {},
     "output_type": "execute_result"
    }
   ],
   "source": [
    "os.getcwd()"
   ]
  },
  {
   "cell_type": "code",
   "execution_count": 8,
   "metadata": {
    "collapsed": false
   },
   "outputs": [],
   "source": [
    "driver = webdriver.Chrome(\"/Users/deniel3678/Desktop/Python/爬蟲/chromedriver\")\n",
    "driver.implicitly_wait(3) # implicit wait makes WebDriver poll the DOM for a certain amount of time when trying to locate an element\n",
    "driver.get(\"https://tw.eztable.com/channel/314\")"
   ]
  },
  {
   "cell_type": "code",
   "execution_count": 10,
   "metadata": {
    "collapsed": false
   },
   "outputs": [
    {
     "name": "stderr",
     "output_type": "stream",
     "text": [
      "/Users/deniel3678/anaconda3/lib/python3.5/site-packages/bs4/__init__.py:166: UserWarning: No parser was explicitly specified, so I'm using the best available HTML parser for this system (\"lxml\"). This usually isn't a problem, but if you run this code on another system, or in a different virtual environment, it may use a different parser and behave differently.\n",
      "\n",
      "To get rid of this warning, change this:\n",
      "\n",
      " BeautifulSoup([your markup])\n",
      "\n",
      "to this:\n",
      "\n",
      " BeautifulSoup([your markup], \"lxml\")\n",
      "\n",
      "  markup_type=markup_type))\n"
     ]
    }
   ],
   "source": [
    "for i in range(1,10):\n",
    "    driver.execute_script(\"window.scrollTo(0,document.body.scrollHeight)\") # 執行Javascript 拉到頁面最下面\n",
    "    time.sleep(1)\n",
    "\n",
    "soup = BeautifulSoup(driver.page_source)  # 取得剛剛for loop做了十次拉到最下面後的結果\n"
   ]
  },
  {
   "cell_type": "code",
   "execution_count": 23,
   "metadata": {
    "collapsed": false
   },
   "outputs": [
    {
     "name": "stdout",
     "output_type": "stream",
     "text": [
      "Rosmarino\n",
      "Grace Rrestaurant\n",
      "JB極品居酒屋\n",
      "北緯二十五 - 台北寒舍艾美酒店\n",
      "NAPOLI’S PIZZA & COFFE\n",
      "VA VA VOOM\n",
      "紅花鐵板燒-台北101購物中心旗艦店\n",
      "紅花鐵板燒-新光三越 A9 館\n",
      "紅花鐵板燒-SOGO 復興館\n",
      "太和殿麻辣鴛鴦火鍋-台北總店\n",
      "調色盤餐廳\n",
      "打狗霸鍋物 - 徳立莊店\n",
      "打狗霸鍋物 - 昆明店\n",
      "歐麗蛋糕坊-歐華酒店\n",
      "EZTABLE 誰來晚餐 - 2/17 (五) 19:30 公益一起做\n",
      "京華城櫻桃谷\n",
      "鳥丈爐端燒\n",
      "Antico Forno 老烤箱義式披薩餐酒\n",
      "欣葉小聚今品 (南港店)\n",
      "欣葉呷哺呷哺\n",
      "燒肉同話-台北光復南店\n",
      "Felicitas Pâtissérie\n",
      "黑熊愛跳舞\n",
      "inn Café  成都店\n",
      "inhouse Residence 薆悅酒店 - 大安會館\n",
      "大戶屋 (忠孝復興店)\n",
      "圓山牛排館 - 台北圓山大飯店\n",
      "京元蔬食創意料理\n",
      "PURE cuisine 純‧歐法料理餐廳-北投老爺酒店\n",
      "橄欖小館法國料理 Le Bistro de L'olivier\n",
      "富。四季割烹\n",
      "日本料理 錦水TAIPEI\n",
      "二木 酒・料理\n",
      "K.C. Cafè\n",
      "Cafe de Saison 四季咖啡\n",
      "Med in Taiwan: Beef Edition 地中海牛排餐廳\n",
      "一膳食堂 (微風信義店)\n",
      "HELLO KITTY 火鍋二號店\n",
      "加勒比海餐酒館-By ABV Bar & Kitchen 精釀啤酒餐廳\n",
      "有沒有咖啡 Double H Café\n",
      "Bambi Bambi Brunch斑比咖啡\n",
      "La LUPA Classic 經典母狼\n",
      "東京新鮮お肉問屋    西頭\n",
      "炭旬 - 台北敦南店\n",
      "居食屋「和民 」台北士林店\n",
      "居食屋「和民」台北西門店\n",
      "和民之家 - 台北站前店\n",
      "香茅廚泰式餐廳 Chef Lemongrass Thai Bistro\n",
      "漢來蔬食-忠孝店 (SOGO百貨忠孝館11F)​\n",
      "ONE PIECE 台灣航海王餐廳\n",
      "一號糧倉\n",
      "第一夫人咖啡館\n",
      "Bigtom美國冰淇淋咖啡館 (國館翠湖店)\n",
      "SIGRID Coffee\n",
      "鬍子餐酒 Baffi Italian trattoria \n",
      "首都牛排館 - 台北首都大飯店\n",
      "樂軒和牛專門店 (台北店)\n",
      "ita 義塔 (台北重慶南店)\n",
      "ita 義塔 (台北微風南京店)\n",
      "ita 義塔 (台北微風松高店)\n",
      "水月草堂\n",
      "金山客家小館 - 創始店\n",
      "Toasteria Café (敦南店)\n",
      "一心堂燒肉\n",
      "Le Partage 樂享小法廚\n",
      "L'origine by la Credenza 歐傑洛義式餐廳\n",
      "添好運 (台北信義店)\n",
      "添好運 (HOYII 北車站店)\n",
      "Pinknic野餐吧 (松菸店)\n",
      "印度皇宮 (台北忠孝店)\n",
      "ZAZA 札札咖啡\n",
      "JAPOLI 義大利餐酒館\n",
      "A.B House 義式私房料理\n",
      "am Daily\n",
      "大晴天親子餐廳\n",
      "凱越越南風味火鍋\n",
      "AN58西班牙創意料理 (承德店)\n",
      "Nep. Lounge Bar\n",
      "棧 F-U Kitchen\n",
      "漢來海港餐廳-天母店 (台北天母 SOGO 7F)\n",
      "AN58 西班牙創意料理 (民權店)\n",
      "富錦街 No.108\n",
      "豫園上海湯包館 - 台北首都大飯店\n",
      "秋豆溢 日式鍋物專門\n",
      "Trine & Zen (信義店)\n",
      "Trine & Zen (松高店)\n",
      "樂天皇朝\n",
      "花樂鐵板燒\n",
      "Imp Cafe\n",
      "布娜飛比利時啤酒餐廳BravoBeer (台北市民店)\n",
      "旬採鮨処 (中山店)\n",
      "旬採鮨処 (信義店)\n",
      "A‧Place CAFE\n",
      "哇啦哇啦 日式食堂\n",
      "Origines\n",
      "西雅圖極品嚴焙咖啡館 Barista Premium \n",
      "必勝客歡樂吧 (南港店)\n",
      "赤坂屋日式碳烤燒肉店\n",
      "PRIMARY Entertainment\n",
      "DUO Taipei\n"
     ]
    }
   ],
   "source": [
    "for i in soup.find_all(\"h4\",\"title\"):\n",
    "    print(i.string)"
   ]
  },
  {
   "cell_type": "code",
   "execution_count": null,
   "metadata": {
    "collapsed": true
   },
   "outputs": [],
   "source": []
  }
 ],
 "metadata": {
  "kernelspec": {
   "display_name": "Python 3",
   "language": "python",
   "name": "python3"
  },
  "language_info": {
   "codemirror_mode": {
    "name": "ipython",
    "version": 3
   },
   "file_extension": ".py",
   "mimetype": "text/x-python",
   "name": "python",
   "nbconvert_exporter": "python",
   "pygments_lexer": "ipython3",
   "version": "3.5.2"
  }
 },
 "nbformat": 4,
 "nbformat_minor": 0
}
