{
 "cells": [
  {
   "cell_type": "code",
   "execution_count": 100,
   "metadata": {
    "collapsed": true
   },
   "outputs": [],
   "source": [
    "# 相關參考資源：https://kknews.cc/zh-tw/tech/ae8le9x.html"
   ]
  },
  {
   "cell_type": "code",
   "execution_count": 24,
   "metadata": {
    "collapsed": true
   },
   "outputs": [],
   "source": [
    "from selenium import webdriver\n",
    "driver = webdriver.Chrome(executable_path=\"/Users/deniel3678/Desktop/Python/爬蟲/chromedriver\")  \n",
    "\n",
    "import pandas as pd\n",
    "import json\n",
    "from bs4 import BeautifulSoup"
   ]
  },
  {
   "cell_type": "code",
   "execution_count": 25,
   "metadata": {
    "collapsed": true
   },
   "outputs": [],
   "source": [
    "driver.get(\"https://www.maicoin.com/api/prices/btc-twd\")"
   ]
  },
  {
   "cell_type": "code",
   "execution_count": 40,
   "metadata": {
    "collapsed": false
   },
   "outputs": [
    {
     "data": {
      "text/plain": [
       "'<html xmlns=\"http://www.w3.org/1999/xhtml\"><head></head><body><pre style=\"word-wrap: break-word; white-space: pre-wrap;\">{\"raw_sell_price\":12065759666,\"raw_buy_price\":13606069410,\"raw_price\":12835914538,\"formatted_sell_price\":\"NT$120,657.596660\",\"formatted_buy_price\":\"NT$136,060.694100\",\"formatted_price\":\"NT$128,359.145380\",\"raw_sell_price_in_twd\":12065759666,\"raw_buy_price_in_twd\":13606069410,\"raw_price_in_twd\":12835914538,\"formatted_sell_price_in_twd\":\"NT$120,657.596660\",\"formatted_buy_price_in_twd\":\"NT$136,060.694100\",\"formatted_price_in_twd\":\"NT$128,359.145380\"}</pre></body></html>'"
      ]
     },
     "execution_count": 40,
     "metadata": {},
     "output_type": "execute_result"
    }
   ],
   "source": [
    "driver.page_source"
   ]
  },
  {
   "cell_type": "code",
   "execution_count": 99,
   "metadata": {
    "collapsed": false,
    "scrolled": true
   },
   "outputs": [
    {
     "name": "stdout",
     "output_type": "stream",
     "text": [
      "NT$135,413.115240\n",
      "NT$135,481.049600\n",
      "NT$135,481.049600\n",
      "NT$135,481.049600\n",
      "NT$135,481.049600\n",
      "NT$135,481.049600\n",
      "NT$135,481.049600\n",
      "NT$135,481.049600\n",
      "NT$135,481.049600\n",
      "NT$135,481.049600\n"
     ]
    }
   ],
   "source": [
    "\n",
    "for i in range(10):\n",
    "    data = BeautifulSoup(driver.page_source,\"lxml\").find(\"pre\").string\n",
    "    data = [json.loads(data)]\n",
    "    time.sleep(3.5)\n",
    "    driver.refresh()\n",
    "    \n",
    "    d = pd.DataFrame(data)\n",
    "    print(d[\"formatted_buy_price\"][0])\n",
    "    "
   ]
  },
  {
   "cell_type": "code",
   "execution_count": 97,
   "metadata": {
    "collapsed": false
   },
   "outputs": [
    {
     "data": {
      "text/html": [
       "<div>\n",
       "<table border=\"1\" class=\"dataframe\">\n",
       "  <thead>\n",
       "    <tr style=\"text-align: right;\">\n",
       "      <th></th>\n",
       "      <th>formatted_buy_price</th>\n",
       "      <th>formatted_buy_price_in_twd</th>\n",
       "      <th>formatted_price</th>\n",
       "      <th>formatted_price_in_twd</th>\n",
       "      <th>formatted_sell_price</th>\n",
       "      <th>formatted_sell_price_in_twd</th>\n",
       "      <th>raw_buy_price</th>\n",
       "      <th>raw_buy_price_in_twd</th>\n",
       "      <th>raw_price</th>\n",
       "      <th>raw_price_in_twd</th>\n",
       "      <th>raw_sell_price</th>\n",
       "      <th>raw_sell_price_in_twd</th>\n",
       "    </tr>\n",
       "  </thead>\n",
       "  <tbody>\n",
       "    <tr>\n",
       "      <th>0</th>\n",
       "      <td>NT$135,413.115240</td>\n",
       "      <td>NT$135,413.115240</td>\n",
       "      <td>NT$127,748.221920</td>\n",
       "      <td>NT$127,748.221920</td>\n",
       "      <td>NT$120,083.328610</td>\n",
       "      <td>NT$120,083.328610</td>\n",
       "      <td>13541311524</td>\n",
       "      <td>13541311524</td>\n",
       "      <td>12774822192</td>\n",
       "      <td>12774822192</td>\n",
       "      <td>12008332861</td>\n",
       "      <td>12008332861</td>\n",
       "    </tr>\n",
       "  </tbody>\n",
       "</table>\n",
       "</div>"
      ],
      "text/plain": [
       "  formatted_buy_price formatted_buy_price_in_twd    formatted_price  \\\n",
       "0   NT$135,413.115240          NT$135,413.115240  NT$127,748.221920   \n",
       "\n",
       "  formatted_price_in_twd formatted_sell_price formatted_sell_price_in_twd  \\\n",
       "0      NT$127,748.221920    NT$120,083.328610           NT$120,083.328610   \n",
       "\n",
       "   raw_buy_price  raw_buy_price_in_twd    raw_price  raw_price_in_twd  \\\n",
       "0    13541311524           13541311524  12774822192       12774822192   \n",
       "\n",
       "   raw_sell_price  raw_sell_price_in_twd  \n",
       "0     12008332861            12008332861  "
      ]
     },
     "execution_count": 97,
     "metadata": {},
     "output_type": "execute_result"
    }
   ],
   "source": [
    "d"
   ]
  },
  {
   "cell_type": "code",
   "execution_count": null,
   "metadata": {
    "collapsed": true
   },
   "outputs": [],
   "source": []
  },
  {
   "cell_type": "code",
   "execution_count": null,
   "metadata": {
    "collapsed": true
   },
   "outputs": [],
   "source": []
  },
  {
   "cell_type": "code",
   "execution_count": 41,
   "metadata": {
    "collapsed": true
   },
   "outputs": [],
   "source": [
    "# 待研究\n",
    "\n",
    "from selenium.webdriver.support.ui import WebDriverWait\n",
    "from selenium.webdriver.common.by import By\n",
    "from selenium.webdriver.support import expected_conditions as EC\n",
    "import time"
   ]
  }
 ],
 "metadata": {
  "kernelspec": {
   "display_name": "Python 3",
   "language": "python",
   "name": "python3"
  },
  "language_info": {
   "codemirror_mode": {
    "name": "ipython",
    "version": 3
   },
   "file_extension": ".py",
   "mimetype": "text/x-python",
   "name": "python",
   "nbconvert_exporter": "python",
   "pygments_lexer": "ipython3",
   "version": "3.5.3"
  }
 },
 "nbformat": 4,
 "nbformat_minor": 0
}
