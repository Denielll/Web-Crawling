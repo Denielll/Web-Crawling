{
 "cells": [
  {
   "cell_type": "code",
   "execution_count": 1,
   "metadata": {
    "collapsed": true
   },
   "outputs": [],
   "source": [
    "# 參考資料：http://pala.tw/python-web-crawler/"
   ]
  },
  {
   "cell_type": "code",
   "execution_count": 2,
   "metadata": {
    "collapsed": true
   },
   "outputs": [],
   "source": [
    "# 練習... 選擇class，要在開頭加上句點.，例如.半糖；選擇id時，則要在前面加上井字號#，#老闆、#Pala"
   ]
  },
  {
   "cell_type": "code",
   "execution_count": 4,
   "metadata": {
    "collapsed": false
   },
   "outputs": [],
   "source": [
    "import requests\n",
    "from bs4 import BeautifulSoup"
   ]
  },
  {
   "cell_type": "code",
   "execution_count": 75,
   "metadata": {
    "collapsed": true
   },
   "outputs": [],
   "source": [
    "res = requests.get('http://pala.tw/class-id-example/')\n",
    "soup = BeautifulSoup(res.text, \"lxml\")\n"
   ]
  },
  {
   "cell_type": "code",
   "execution_count": 76,
   "metadata": {
    "collapsed": false
   },
   "outputs": [
    {
     "data": {
      "text/plain": [
       "<!DOCTYPE html>\n",
       "<html lang=\"en\">\n",
       "<head>\n",
       "<meta charset=\"utf-8\"/>\n",
       "<title>辦公室的下午茶</title>\n",
       "</head>\n",
       "<body>\n",
       "<p class=\"半糖 去冰 珍珠 奶茶\" id=\"老闆\">老闆的半糖去冰珍珠奶茶</p>\n",
       "<p class=\"無糖 去冰 綠茶\" id=\"資深前輩\">資深前輩的無糖去冰綠茶</p>\n",
       "<p class=\"無糖 微冰 鐵觀音\" id=\"Pala\">Pala的無糖微冰鐵觀音</p>\n",
       "<p class=\"半糖 去冰 文山青茶\" id=\"心儀同事\">心儀同事的半糖去冰文山青茶</p>\n",
       "<p class=\"半糖 微冰 珍珠 紅茶\" id=\"工讀生\">工讀生的半糖微冰珍珠紅茶</p>\n",
       "</body>\n",
       "</html>"
      ]
     },
     "execution_count": 76,
     "metadata": {},
     "output_type": "execute_result"
    }
   ],
   "source": [
    "soup"
   ]
  },
  {
   "cell_type": "code",
   "execution_count": 122,
   "metadata": {
    "collapsed": false
   },
   "outputs": [
    {
     "data": {
      "text/plain": [
       "<p class=\"半糖 去冰 珍珠 奶茶\" id=\"老闆\">老闆的半糖去冰珍珠奶茶</p>"
      ]
     },
     "execution_count": 122,
     "metadata": {},
     "output_type": "execute_result"
    }
   ],
   "source": [
    "soup.find(\"p\",\"半糖 去冰 珍珠 奶茶\")"
   ]
  },
  {
   "cell_type": "markdown",
   "metadata": {},
   "source": [
    "### 這種指令要用select..不能用 find"
   ]
  },
  {
   "cell_type": "code",
   "execution_count": 117,
   "metadata": {
    "collapsed": true
   },
   "outputs": [],
   "source": [
    "#原因： select 支援CSS Selectors。 像是class, id, style..等等就是屬於css"
   ]
  },
  {
   "cell_type": "code",
   "execution_count": 102,
   "metadata": {
    "collapsed": false
   },
   "outputs": [
    {
     "data": {
      "text/plain": [
       "[<p class=\"半糖 去冰 珍珠 奶茶\" id=\"老闆\">老闆的半糖去冰珍珠奶茶</p>,\n",
       " <p class=\"半糖 去冰 文山青茶\" id=\"心儀同事\">心儀同事的半糖去冰文山青茶</p>,\n",
       " <p class=\"半糖 微冰 珍珠 紅茶\" id=\"工讀生\">工讀生的半糖微冰珍珠紅茶</p>]"
      ]
     },
     "execution_count": 102,
     "metadata": {},
     "output_type": "execute_result"
    }
   ],
   "source": [
    "soup.select(\".半糖\")  # class裡面有半糖的"
   ]
  },
  {
   "cell_type": "code",
   "execution_count": 100,
   "metadata": {
    "collapsed": false
   },
   "outputs": [
    {
     "data": {
      "text/plain": [
       "[<p class=\"半糖 去冰 珍珠 奶茶\" id=\"老闆\">老闆的半糖去冰珍珠奶茶</p>]"
      ]
     },
     "execution_count": 100,
     "metadata": {},
     "output_type": "execute_result"
    }
   ],
   "source": [
    "soup.select(\"#老闆\")  # id裡面有老闆的"
   ]
  }
 ],
 "metadata": {
  "kernelspec": {
   "display_name": "Python 3",
   "language": "python",
   "name": "python3"
  },
  "language_info": {
   "codemirror_mode": {
    "name": "ipython",
    "version": 3
   },
   "file_extension": ".py",
   "mimetype": "text/x-python",
   "name": "python",
   "nbconvert_exporter": "python",
   "pygments_lexer": "ipython3",
   "version": "3.5.2"
  }
 },
 "nbformat": 4,
 "nbformat_minor": 0
}
